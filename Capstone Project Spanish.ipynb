{
 "cells": [
  {
   "cell_type": "markdown",
   "id": "5daa76fe",
   "metadata": {},
   "source": [
    "<center><h1>Instrucciones para el Proyecto Final</h1></center>\n",
    "<center><h3>IBM SkillsBuild Europa - Análisis de datos</h3></center>\n",
    "\n",
    "\n",
    "\n",
    "# Requisitos: \n",
    "\n",
    "\n",
    "* Tener conocimiento de Python.\n",
    "* Tener conocimiento sobre el manejo de datos.\n",
    "* Tener conocimiento sobre la visualización de datos.\n",
    "\n",
    "\n",
    "#### Nivel del ejercicio: Intermedio\n",
    "\n",
    "#### Tiempo de trabajo: 3 horas\n",
    "  "
   ]
  },
  {
   "cell_type": "markdown",
   "id": "ce8639cb",
   "metadata": {},
   "source": [
    "### Análisis de datos de Airbnb\n",
    "\n",
    "#### Objetivo:\n",
    "\n",
    "En este ejercicio, realizarás un análisis de datos con <i>datasets</i> de Airbnb abiertos al público.\n",
    "Algunas de las tareas que llevarás a cabo son:\n",
    "     \n",
    "   * limpieza de datos,\n",
    "   * transformación de datos y\n",
    "   * visualización de datos.\n",
    "\n",
    "#### Información sobre los datos de Airbnb:\n",
    "<p>Cuando visita lugares nuevos busca cubrir dos necesidades principales, tener alojamiento y comida a precios \n",
    "razonables. Airbnb (Air-Bed-Breakfast) es un mercado en línea que ha creado un lucrativo modelo de \n",
    "negocio basado en una de estas necesidades. La aplicación permite que las personas que tienen una habitación extra \n",
    "la alquilen, parcial o totalmente y a corto plazo, a aquellos que buscan un lugar económico para alojarse, \n",
    "pues este servicio suele tener un precio relativamente menor que el de los hoteles. Además, personas de \n",
    "todo el mundo prefieren el servicio hogareño y económico.\n",
    "Propietarios de todo el mundo alquilan su espacio a través de Airbnb a turistas y otros tipos de \n",
    "visitantes</p>\n",
    "\n",
    "#### Fuente del conjunto de datos\n",
    "La fuente de este <i>dataset</i> es: <a href=\"https://www.kaggle.com/datasets/arianazmoudeh/airbnbopendata\">https://www.kaggle.com/datasets/arianazmoudeh/airbnbopendata</a>.  \n",
    "\n",
    "Este <i>dataset</i> contiene información tal como la zona en la cual se ofrecen los servicios, el tipo de \n",
    "habitación, el precio, la disponibilidad, las reseñas de otros clientes, el cargo por servicio, la política de \n",
    "cancelación y las reglas de la casa. Este análisis ayudará a LetItGo Holiday Consultants a mejorar sus \n",
    "servicios para poder ofrecer alojamiento en Airbnb a sus clientes cuando sea pertinente y a colaborar con \n",
    "Airbnb para mejorar sus productos y servicios.\n",
    "\n",
    "¡Les deseamos lo mejor en su análisis de los datos de Airbnb!\n"
   ]
  },
  {
   "cell_type": "markdown",
   "id": "a4cfc3b3",
   "metadata": {},
   "source": [
    "<h2>Importa las bibliotecas necesarias</h2>"
   ]
  },
  {
   "cell_type": "code",
   "execution_count": null,
   "id": "7c800996",
   "metadata": {},
   "outputs": [],
   "source": [
    "importar pandas como pd\n",
    "importar numpys como np\n",
    "\n",
    "#  Es requisito importar las bibliotecas de visualización.\n"
   ]
  },
  {
   "cell_type": "markdown",
   "id": "9a86cf69",
   "metadata": {},
   "source": [
    "## Tarea 1: Carga de los datos\n",
    "\n",
    "* Realiza las siguientes tareas:\n",
    "\n",
    "   * Lee el archivo csv y conviértelo en un <i>dataframe</i>.\n",
    "   * Muestra las primeras cinco filas del <i>dataframe</i>.\n",
    "   * Muestra el tipo de datos de cada columna."
   ]
  },
  {
   "cell_type": "code",
   "execution_count": null,
   "id": "3e5ea376",
   "metadata": {},
   "outputs": [],
   "source": [
    " ## Lee el archivo csv."
   ]
  },
  {
   "cell_type": "code",
   "execution_count": null,
   "id": "18c08d94",
   "metadata": {},
   "outputs": [],
   "source": [
    "## Muestra las primeras 5 filas.\n",
    "  "
   ]
  },
  {
   "cell_type": "code",
   "execution_count": null,
   "id": "0e61d56e",
   "metadata": {},
   "outputs": [],
   "source": [
    "## Muestra los tipos de datos."
   ]
  },
  {
   "cell_type": "markdown",
   "id": "0b2e801f",
   "metadata": {},
   "source": [
    "## Tarea 2a: Limpieza de los datos\n",
    "\n",
    "Elimina del dataframe las columnas con los títulos <i>«host id», «id», «country» y «country code»</i>.\n",
    "Indica por qué no se incluyen estas columnas en tu análisis de datos."
   ]
  },
  {
   "cell_type": "code",
   "execution_count": null,
   "id": "3de0751f",
   "metadata": {},
   "outputs": [],
   "source": [
    "## Elimina las columnas no deseadas."
   ]
  },
  {
   "cell_type": "markdown",
   "id": "2071cce7",
   "metadata": {},
   "source": [
    "## Tarea 2b: Limpieza de los datos.\n",
    "\n",
    "* Comprueba los valores que faltan en el <i>dataframe</i> y muestra el recuento en forma ascendente.\n",
    "   **Si faltan valores, agrégalos según el tipo de datos de las columnas**.\n",
    "* Comprueba si hay valores duplicados y elimínalos.\n",
    "* Muestra el número total de registros en el <i>dataframe</i> después de haber eliminado los duplicados."
   ]
  },
  {
   "cell_type": "code",
   "execution_count": null,
   "id": "e78c0409",
   "metadata": {},
   "outputs": [],
   "source": [
    "## Comprueba los valores que faltan y muestra el recuento en forma ascendente."
   ]
  },
  {
   "cell_type": "code",
   "execution_count": null,
   "id": "7a691fba",
   "metadata": {},
   "outputs": [],
   "source": [
    "## Comprueba si hay valores duplicados y elimínalos."
   ]
  },
  {
   "cell_type": "code",
   "execution_count": null,
   "id": "5b1596fa",
   "metadata": {},
   "outputs": [],
   "source": [
    "## Muestra el número total de registros después de haber eliminado los duplicados."
   ]
  },
  {
   "cell_type": "markdown",
   "id": "1bf8912c",
   "metadata": {},
   "source": [
    "## Tarea 3: Transformación de los datos:\n",
    "\n",
    "\n",
    "* Cambia el nombre de la columna <i>«availability 365»</i> por <i>«days_booked»</i>.\n",
    "* Convierte los títulos de todas las columnas a minúsculas y cambia los espacios que separan palabras por un guion bajo (_).\n",
    "* Elimina el signo de dólares ($) y la coma de las columnas <i>«price»</i> y <i>«service_fee»</i> y conviértelas al tipo de dato que les corresponda.\n"
   ]
  },
  {
   "cell_type": "code",
   "execution_count": null,
   "id": "3adf9b6b",
   "metadata": {},
   "outputs": [],
   "source": [
    "## Cambia el nombre de la columna."
   ]
  },
  {
   "cell_type": "code",
   "execution_count": null,
   "id": "9e968504",
   "metadata": {},
   "outputs": [],
   "source": [
    "## Convierte los títulos de todas las columnas a minúsculas y cambia los espacios que separan palabras por «_»."
   ]
  },
  {
   "cell_type": "code",
   "execution_count": null,
   "id": "38430057",
   "metadata": {},
   "outputs": [],
   "source": [
    "## Elimina el signo de dólares y la coma de las columnas. Convierte las columnas al tipo de dato que les corresponda."
   ]
  },
  {
   "cell_type": "markdown",
   "id": "f5fdef8b",
   "metadata": {},
   "source": [
    "### Tarea 4: Análisis exploratorio de los datos.\n",
    "\n",
    "* Enumera el recuento de los distintos tipos de habitaciones <i>(room type)</i> disponibles en Airbnb.\n",
    "* ¿Qué tipo de habitación se adhiere a una política de cancelación <i>(cancellation_policy)</i> más estricta?\n",
    "* Enumera los precios por conjunto de barrios <i>(neighborhood group)</i> y menciona cuál es el conjunto de barrios con alquileres más caros."
   ]
  },
  {
   "cell_type": "code",
   "execution_count": null,
   "id": "c171e196",
   "metadata": {},
   "outputs": [],
   "source": [
    "## Enumera el recuento de los distintos tipos de habitaciones disponibles en Airbnb."
   ]
  },
  {
   "cell_type": "code",
   "execution_count": null,
   "id": "7f651811",
   "metadata": {},
   "outputs": [],
   "source": [
    "## ¿Qué tipo de habitación se adhiere a una política de cancelación más estricta?"
   ]
  },
  {
   "cell_type": "code",
   "execution_count": null,
   "id": "d01c1ac4",
   "metadata": {},
   "outputs": [],
   "source": [
    "## Enumera los precios por conjunto de barrios y menciona cuál tiene los alquileres más caros."
   ]
  },
  {
   "cell_type": "markdown",
   "id": "ca3ed1e6",
   "metadata": {},
   "source": [
    "## Tarea 5a: Visualización de los datos:\n",
    "* Utiliza un histograma horizontal para mostrar los 10 barrios principales en forma ascendente según su precio, ¿cuál es el barrio más barato?\n",
    "* Utiliza un histograma horizontal para visualizar los vecindarios que ofrecen alquileres a corto plazo dentro de los próximos 10 días.\n",
    "* Utiliza un histograma para enumerar los precios según el tipo de habitación e indica tus conclusiones.\n",
    "* Crea un gráfico sectorial para mostrar la distribución de los días reservados por cada conjunto de barrios, ¿qué barrio tiene el mayor porcentaje de reservaciones?\n",
    "\n"
   ]
  },
  {
   "cell_type": "code",
   "execution_count": null,
   "id": "4e5a6b74",
   "metadata": {},
   "outputs": [],
   "source": [
    "## Utiliza un histograma horizontal para enumera los 10 barrios principales en forma ascendente según su precio."
   ]
  },
  {
   "cell_type": "code",
   "execution_count": null,
   "id": "a4c17b11",
   "metadata": {},
   "outputs": [],
   "source": [
    "## Utiliza un histograma para visualizar los vecindarios que ofrecen alquileres a corto plazo dentro de los próximos 10 días."
   ]
  },
  {
   "cell_type": "code",
   "execution_count": null,
   "id": "2c28b705",
   "metadata": {},
   "outputs": [],
   "source": [
    "## Utiliza un histograma para enumerar los precios según el tipo de habitación e indica tus conclusiones."
   ]
  },
  {
   "cell_type": "code",
   "execution_count": null,
   "id": "1d567723",
   "metadata": {},
   "outputs": [],
   "source": [
    "## Crea un gráfico sectorial para mostrar la distribución de los días reservados en cada barrio.\n",
    "##  ¿Cuál tiene el mayor porcentaje de reservaciones?."
   ]
  },
  {
   "cell_type": "markdown",
   "id": "9c313303",
   "metadata": {},
   "source": [
    "## Tarea 5b: Visualización de los datos.\n",
    "\n",
    "* ¿El precio del servicio y el precio de la habitación se influyen mutuamente? Ilustra esta relación \n",
    "con un gráfico de dispersión e indica tus conclusiones.\n",
    "* Utiliza un gráfico de líneas para mostrar en qué año tuvo lugar la máxima construcción de habitaciones.\n"
   ]
  },
  {
   "cell_type": "code",
   "execution_count": null,
   "id": "8c9d22b5",
   "metadata": {},
   "outputs": [],
   "source": [
    "##¿El precio del servicio y el precio de la habitación se influyen mutuamente?\n",
    "## Ilustra esta relación con un gráfico de dispersión e indica tus conclusiones."
   ]
  },
  {
   "cell_type": "code",
   "execution_count": null,
   "id": "343be5c4",
   "metadata": {},
   "outputs": [],
   "source": [
    "## Utiliza un gráfico de líneas para mostrar en qué año tuvo lugar la máxima construcción de habitaciones."
   ]
  },
  {
   "cell_type": "markdown",
   "id": "9db2466c",
   "metadata": {},
   "source": [
    "## Tarea 5c: Visualización de los datos\n",
    "\n",
    "* Utiliza diagramas de caja para ilustrar lo siguiente:\n",
    "   * el efecto que las notas de las reseñas tienen sobre el precio y\n",
    "   * el efecto que tiene la verificación de la identidad del anfitrión sobre el precio.\n"
   ]
  },
  {
   "cell_type": "code",
   "execution_count": null,
   "id": "3f1fb0c3",
   "metadata": {},
   "outputs": [],
   "source": [
    "## Diagrama de caja 1: Efecto de las notas de las reseñas sobre el precio."
   ]
  },
  {
   "cell_type": "code",
   "execution_count": null,
   "id": "fcdb016f",
   "metadata": {},
   "outputs": [],
   "source": [
    "## Diagrama de caja 2: Efecto de la verificación de la identidad del anfitrión sobre el precio."
   ]
  },
  {
   "cell_type": "markdown",
   "id": "b304da43",
   "metadata": {},
   "source": [
    "\n",
    "   "
   ]
  },
  {
   "cell_type": "code",
   "execution_count": null,
   "id": "145fc1a1",
   "metadata": {},
   "outputs": [],
   "source": []
  }
 ],
 "metadata": {
  "kernelspec": {
   "display_name": "Python 3 (ipykernel)",
   "language": "python",
   "name": "python3"
  },
  "language_info": {
   "codemirror_mode": {
    "name": "ipython",
    "version": 3
   },
   "file_extension": ".py",
   "mimetype": "text/x-python",
   "name": "python",
   "nbconvert_exporter": "python",
   "pygments_lexer": "ipython3",
   "version": "3.9.12"
  },
  "vscode": {
   "interpreter": {
    "hash": "31f2aee4e71d21fbe5cf8b01ff0e069b9275f58929596ceb00d14d90e3e16cd6"
   }
  }
 },
 "nbformat": 4,
 "nbformat_minor": 5
}
