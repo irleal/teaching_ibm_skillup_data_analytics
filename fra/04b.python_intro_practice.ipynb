{
 "cells": [
  {
   "cell_type": "markdown",
   "metadata": {},
   "source": [
    "# Python : introduction. Pratique et exercices"
   ]
  },
  {
   "cell_type": "markdown",
   "metadata": {},
   "source": [
    "**NOTES**.\n",
    "\n",
    " - Il existe de nombreuses façons de résoudre chaque problème, trouvez la vôtre.\n",
    "\n",
    " - Créez les cellules supplémentaires dont vous avez besoin.\n",
    "\n",
    " - N'oubliez pas qu'une cellule peut être une cellule Code ou une cellule Markdown. Utilisez ce dernier pour rédiger du texte et des explications si vous en avez besoin.\n",
    "\n",
    " - Essayez de créer des variables lors de la résolution des exercices.\n",
    "\n",
    " - Vous pouvez compter sur l'internet : tous les programmeurs le font tous les jours."
   ]
  },
  {
   "cell_type": "markdown",
   "metadata": {},
   "source": [
    "Quel est le plus grand nombre, $10^9$ ou $9^{10}$."
   ]
  },
  {
   "cell_type": "code",
   "execution_count": null,
   "metadata": {},
   "outputs": [],
   "source": []
  },
  {
   "cell_type": "markdown",
   "metadata": {},
   "source": [
    "J'ai 500 euros à la banque. Je le laisse pendant 3 ans à un taux d'intérêt composé de 2 %. Combien d'argent vais-je avoir au final ?"
   ]
  },
  {
   "cell_type": "code",
   "execution_count": null,
   "metadata": {},
   "outputs": [],
   "source": []
  },
  {
   "cell_type": "markdown",
   "metadata": {},
   "source": [
    "Soit les nombres $a =3,4$ et $b=6,3$. Soit $c=a=a$ et $b=6,3$. Arrondissez les trois nombres à un nombre entier. Faites de même avec $c$. Qu'observez-vous ?"
   ]
  },
  {
   "cell_type": "code",
   "execution_count": null,
   "metadata": {},
   "outputs": [],
   "source": []
  },
  {
   "cell_type": "markdown",
   "metadata": {},
   "source": [
    "Évaluez les expressions suivantes dans votre tête. Ensuite, courez pour connaître le résultat."
   ]
  },
  {
   "cell_type": "code",
   "execution_count": null,
   "metadata": {},
   "outputs": [],
   "source": [
    "3 > 2"
   ]
  },
  {
   "cell_type": "code",
   "execution_count": null,
   "metadata": {},
   "outputs": [],
   "source": [
    "len(\"pepe\") < 6"
   ]
  },
  {
   "cell_type": "code",
   "execution_count": null,
   "metadata": {},
   "outputs": [],
   "source": [
    "2 ** 10 == 3 ** 6"
   ]
  },
  {
   "cell_type": "code",
   "execution_count": null,
   "metadata": {},
   "outputs": [],
   "source": [
    "(3 > 2) and (len(\"pepe\") < 6)"
   ]
  },
  {
   "cell_type": "code",
   "execution_count": null,
   "metadata": {},
   "outputs": [],
   "source": [
    "(3 > 2) or (len(\"pepe\") < 6)"
   ]
  },
  {
   "cell_type": "code",
   "execution_count": null,
   "metadata": {},
   "outputs": [],
   "source": [
    "True or False"
   ]
  },
  {
   "cell_type": "code",
   "execution_count": null,
   "metadata": {},
   "outputs": [],
   "source": [
    "True and False"
   ]
  },
  {
   "cell_type": "code",
   "execution_count": null,
   "metadata": {},
   "outputs": [],
   "source": [
    "not(True and True)"
   ]
  },
  {
   "cell_type": "code",
   "execution_count": null,
   "metadata": {},
   "outputs": [],
   "source": [
    "not(False and True)"
   ]
  },
  {
   "cell_type": "code",
   "execution_count": null,
   "metadata": {},
   "outputs": [],
   "source": [
    "False and False"
   ]
  },
  {
   "cell_type": "markdown",
   "metadata": {},
   "source": [
    "Créez une variable avec votre nom et une autre avec votre ville. Maintenant, résolvez le problème de manière programmatique :\n",
    "\n",
    " - Quel est le mot le plus long ?\n",
    "\n",
    " - Vérifiez si l'un d'entre eux contient la lettre \"m\" en majuscule ou en minuscule.\n",
    "\n",
    " - Est-ce qu'ils correspondent à la dernière lettre ?\n",
    "\n",
    " - Créez un nouveau nom en supprimant la deuxième lettre de votre nom."
   ]
  },
  {
   "cell_type": "code",
   "execution_count": null,
   "metadata": {},
   "outputs": [],
   "source": []
  },
  {
   "cell_type": "markdown",
   "metadata": {},
   "source": [
    "Créez une liste de 10 entiers\n",
    "\n",
    " - Lequel est le plus grand ?\n",
    "\n",
    " - Certains d'entre eux sont-ils répétés ? Essayez d'utiliser la fonction `set` et examinez-la.\n",
    "\n",
    " - Ajoutez le nombre 100 à la liste.\n",
    "\n",
    " - Triez-les du plus haut au plus bas.\n",
    "\n",
    " - Le numéro 5 est dans la liste ?\n",
    "\n",
    " - Quelle est la somme de tous ces nombres ? Ajoutez un nombre à la liste de façon à ce que leur somme soit égale à 5000.\n",
    "\n",
    " - Imprimez ceux qui sont des multiples de 3."
   ]
  },
  {
   "cell_type": "code",
   "execution_count": null,
   "metadata": {},
   "outputs": [],
   "source": []
  },
  {
   "cell_type": "markdown",
   "metadata": {},
   "source": [
    "Étant donné les informations suivantes sur un utilisateur, trouvez par programmation :\n",
    "\n",
    " - Leur âge en 2050.\n",
    "\n",
    " - La ville dans laquelle il vit, écrite en lettres capitales.\n",
    "\n",
    " - Si votre code postal est signalé, c'est-à-dire si la clé `postal_code` existe.\n",
    "\n",
    " - Si vous vous trouvez dans une piscine de 170 cm.\n",
    "\n",
    " - Le nombre d'amis que vous avez.\n",
    "\n",
    " - Si son métier est \"coiffeur\"."
   ]
  },
  {
   "cell_type": "code",
   "execution_count": null,
   "metadata": {},
   "outputs": [],
   "source": [
    "user = {\n",
    "    \"age\": 33,\n",
    "    \"name\": \"Manuel\",\n",
    "    \"city\": \"Madrid\",\n",
    "    \"height\": 1.84,\n",
    "    \"has_children\": False,\n",
    "    \"friends\": [\"Juan\", \"Luis\"],\n",
    "    \"ocupacion\": {\n",
    "        \"name\": \"profe\",\n",
    "        \"tiempo\": 3,\n",
    "        \"salario\": 100\n",
    "    }\n",
    "}"
   ]
  },
  {
   "cell_type": "code",
   "execution_count": null,
   "metadata": {},
   "outputs": [],
   "source": []
  },
  {
   "cell_type": "markdown",
   "metadata": {},
   "source": [
    "Imprime tous les nombres entre 3 et 15"
   ]
  },
  {
   "cell_type": "code",
   "execution_count": null,
   "metadata": {},
   "outputs": [],
   "source": []
  },
  {
   "cell_type": "markdown",
   "metadata": {},
   "source": [
    "Étant donné cette liste de mots :\n",
    "\n",
    " - Imprimer ceux qui ont moins de 5 caractères\n",
    "\n",
    " - Imprimez ceux qui contiennent la lettre \"a\".\n",
    "\n",
    " - Imprime ceux qui ont plus d'une voyelle"
   ]
  },
  {
   "cell_type": "code",
   "execution_count": null,
   "metadata": {},
   "outputs": [],
   "source": [
    "words = [\"mesa\", \"rublos\", \"armario\", \"tres\", \"pelele\"]"
   ]
  },
  {
   "cell_type": "code",
   "execution_count": null,
   "metadata": {},
   "outputs": [],
   "source": []
  },
  {
   "cell_type": "markdown",
   "metadata": {},
   "source": [
    "Écrivez une fonction qui, étant donné une liste de nombres, renvoie une liste de nombres supérieurs à 10."
   ]
  },
  {
   "cell_type": "code",
   "execution_count": null,
   "metadata": {},
   "outputs": [],
   "source": []
  },
  {
   "cell_type": "markdown",
   "metadata": {},
   "source": [
    "Imaginez que vous construisiez un robot de triage des œufs par taille. Le bras doit, en fonction du poids, placer l'œuf dans une boîte ou une autre comme suit :  \n",
    "\n",
    "**Boîte S** (petite) : poids inférieur à 53 grammes.   \n",
    "\n",
    "**Boîte M** (medium) : poids supérieur ou égal à 53 grammes et inférieur à 63 grammes.   \n",
    "\n",
    "**Boîte L** (large) : poids supérieur ou égal à 63 grammes et inférieur à 73 grammes.   \n",
    "\n",
    "**Box XL** (super large) : poids supérieur ou égal à 73 grammes.\n",
    "\n",
    "\n",
    "\n",
    "Ecrivez une logique qui imprime la boîte dans laquelle l'oeuf va aller, en utilisant `if-elif-else`."
   ]
  },
  {
   "cell_type": "code",
   "execution_count": null,
   "metadata": {},
   "outputs": [],
   "source": []
  },
  {
   "cell_type": "markdown",
   "metadata": {},
   "source": [
    "Écrivez un programme qui lance un dé jusqu'à ce qu'il obtienne un 6. Conseil : utilisez `while` et la bibliothèque `random`."
   ]
  },
  {
   "cell_type": "code",
   "execution_count": null,
   "metadata": {},
   "outputs": [],
   "source": []
  },
  {
   "cell_type": "markdown",
   "metadata": {},
   "source": [
    "Créez une fonction qui, étant donné une phrase, renvoie la même phrase criée : en majuscules et en ajoutant \" !!!\" à la fin."
   ]
  },
  {
   "cell_type": "code",
   "execution_count": null,
   "metadata": {},
   "outputs": [],
   "source": []
  },
  {
   "cell_type": "markdown",
   "metadata": {},
   "source": [
    "Créer une fonction qui décide si un nombre est [premier](https://es.wikipedia.org/wiki/N%C3%BAmero_primo)"
   ]
  },
  {
   "cell_type": "code",
   "execution_count": null,
   "metadata": {},
   "outputs": [],
   "source": []
  },
  {
   "cell_type": "markdown",
   "metadata": {},
   "source": [
    "Écrivez une fonction qui, étant donné deux mots, renvoie le plus long des deux."
   ]
  },
  {
   "cell_type": "code",
   "execution_count": null,
   "metadata": {},
   "outputs": [],
   "source": []
  },
  {
   "cell_type": "markdown",
   "metadata": {},
   "source": [
    "Écrivez une fonction qui, étant donné 3 nombres, renvoie la différence maximale entre deux d'entre eux."
   ]
  },
  {
   "cell_type": "code",
   "execution_count": null,
   "metadata": {},
   "outputs": [],
   "source": []
  }
 ],
 "metadata": {
  "kernelspec": {
   "display_name": "Python 3",
   "language": "python",
   "name": "python3"
  },
  "language_info": {
   "codemirror_mode": {
    "name": "ipython",
    "version": 3
   },
   "file_extension": ".py",
   "mimetype": "text/x-python",
   "name": "python",
   "nbconvert_exporter": "python",
   "pygments_lexer": "ipython3",
   "version": "3.8.10"
  },
  "toc": {
   "base_numbering": 1,
   "nav_menu": {},
   "number_sections": false,
   "sideBar": true,
   "skip_h1_title": true,
   "title_cell": "Table of Contents",
   "title_sidebar": "Contents",
   "toc_cell": false,
   "toc_position": {
    "height": "calc(100% - 180px)",
    "left": "10px",
    "top": "150px",
    "width": "305.9px"
   },
   "toc_section_display": true,
   "toc_window_display": true
  },
  "varInspector": {
   "cols": {
    "lenName": 16,
    "lenType": 16,
    "lenVar": 40
   },
   "kernels_config": {
    "python": {
     "delete_cmd_postfix": "",
     "delete_cmd_prefix": "del ",
     "library": "var_list.py",
     "varRefreshCmd": "print(var_dic_list())"
    },
    "r": {
     "delete_cmd_postfix": ") ",
     "delete_cmd_prefix": "rm(",
     "library": "var_list.r",
     "varRefreshCmd": "cat(var_dic_list()) "
    }
   },
   "position": {
    "height": "228.4px",
    "left": "964.4px",
    "right": "20px",
    "top": "23px",
    "width": "350px"
   },
   "types_to_exclude": [
    "module",
    "function",
    "builtin_function_or_method",
    "instance",
    "_Feature"
   ],
   "window_display": false
  }
 },
 "nbformat": 4,
 "nbformat_minor": 4
}
