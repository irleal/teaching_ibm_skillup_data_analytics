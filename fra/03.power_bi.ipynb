{
 "cells": [
  {
   "cell_type": "markdown",
   "metadata": {},
   "source": [
    "# Power BI"
   ]
  },
  {
   "cell_type": "markdown",
   "metadata": {},
   "source": [
    "<table>\n",
    "    <tr>\n",
    "        <td><img width=200 src=\"https://upload.wikimedia.org/wikipedia/commons/thumb/5/51/IBM_logo.svg/800px-IBM_logo.svg.png\"></td>\n",
    "        <td><img width=200 src=\"https://skillup.online/_next/static/media/Logo.c31d02e9.svg\"></td>\n",
    "    </tr>\n",
    "<table>\n"
   ]
  },
  {
   "cell_type": "markdown",
   "metadata": {},
   "source": [
    "<div style=\"text-align: right\"><a>par </a><a href=\"https://www.linkedin.com/in/sheriff-data/\">Manuel López Sheriff</a></div>"
   ]
  },
  {
   "cell_type": "markdown",
   "metadata": {
    "toc": true
   },
   "source": [
    "<h1>Table of Contents<span class=\"tocSkip\"></span></h1>\n",
    "<div class=\"toc\"><ul class=\"toc-item\"><li><span><a href=\"#Précédent-:-Le-modèle-de-données-relationnel\" data-toc-modified-id=\"Précédent-:-Le-modèle-de-données-relationnel-1\"><span class=\"toc-item-num\">1&nbsp;&nbsp;</span>Précédent : Le modèle de données relationnel</a></span><ul class=\"toc-item\"><li><span><a href=\"#Introduction\" data-toc-modified-id=\"Introduction-1.1\"><span class=\"toc-item-num\">1.1&nbsp;&nbsp;</span>Introduction</a></span></li><li><span><a href=\"#SQL\" data-toc-modified-id=\"SQL-1.2\"><span class=\"toc-item-num\">1.2&nbsp;&nbsp;</span>SQL</a></span></li><li><span><a href=\"#Relations\" data-toc-modified-id=\"Relations-1.3\"><span class=\"toc-item-num\">1.3&nbsp;&nbsp;</span>Relations</a></span><ul class=\"toc-item\"><li><span><a href=\"#Inner-join\" data-toc-modified-id=\"Inner-join-1.3.1\"><span class=\"toc-item-num\">1.3.1&nbsp;&nbsp;</span>Inner join</a></span></li><li><span><a href=\"#Left-join\" data-toc-modified-id=\"Left-join-1.3.2\"><span class=\"toc-item-num\">1.3.2&nbsp;&nbsp;</span>Left join</a></span></li><li><span><a href=\"#Right-join\" data-toc-modified-id=\"Right-join-1.3.3\"><span class=\"toc-item-num\">1.3.3&nbsp;&nbsp;</span>Right join</a></span></li><li><span><a href=\"#Outer-join\" data-toc-modified-id=\"Outer-join-1.3.4\"><span class=\"toc-item-num\">1.3.4&nbsp;&nbsp;</span>Outer join</a></span></li></ul></li></ul></li><li><span><a href=\"#NoSQL\" data-toc-modified-id=\"NoSQL-2\"><span class=\"toc-item-num\">2&nbsp;&nbsp;</span>NoSQL</a></span></li><li><span><a href=\"#PowerBI\" data-toc-modified-id=\"PowerBI-3\"><span class=\"toc-item-num\">3&nbsp;&nbsp;</span>PowerBI</a></span><ul class=\"toc-item\"><li><span><a href=\"#Interface\" data-toc-modified-id=\"Interface-3.1\"><span class=\"toc-item-num\">3.1&nbsp;&nbsp;</span>Interface</a></span></li><li><span><a href=\"#Visualisations\" data-toc-modified-id=\"Visualisations-3.2\"><span class=\"toc-item-num\">3.2&nbsp;&nbsp;</span>Visualisations</a></span></li><li><span><a href=\"#Transformations-de-données\" data-toc-modified-id=\"Transformations-de-données-3.3\"><span class=\"toc-item-num\">3.3&nbsp;&nbsp;</span>Transformations de données</a></span><ul class=\"toc-item\"><li><span><a href=\"#Power-Query\" data-toc-modified-id=\"Power-Query-3.3.1\"><span class=\"toc-item-num\">3.3.1&nbsp;&nbsp;</span>Power Query</a></span></li></ul></li><li><span><a href=\"#Autre\" data-toc-modified-id=\"Autre-3.4\"><span class=\"toc-item-num\">3.4&nbsp;&nbsp;</span>Autre</a></span></li></ul></li><li><span><a href=\"#Appendice\" data-toc-modified-id=\"Appendice-4\"><span class=\"toc-item-num\">4&nbsp;&nbsp;</span>Appendice</a></span><ul class=\"toc-item\"><li><span><a href=\"#l'exponentielle\" data-toc-modified-id=\"l'exponentielle-4.1\"><span class=\"toc-item-num\">4.1&nbsp;&nbsp;</span>l'exponentielle</a></span></li><li><span><a href=\"#le-logarithme\" data-toc-modified-id=\"le-logarithme-4.2\"><span class=\"toc-item-num\">4.2&nbsp;&nbsp;</span>le logarithme</a></span></li></ul></li></ul></div>"
   ]
  },
  {
   "cell_type": "markdown",
   "metadata": {},
   "source": [
    "<img width=400 src=\"https://logos-world.net/wp-content/uploads/2022/02/Microsoft-Power-BI-Symbol.png\">"
   ]
  },
  {
   "cell_type": "markdown",
   "metadata": {},
   "source": [
    "## Précédent : Le modèle de données relationnel"
   ]
  },
  {
   "cell_type": "markdown",
   "metadata": {},
   "source": [
    "Universel, pré-PowerBI"
   ]
  },
  {
   "cell_type": "markdown",
   "metadata": {},
   "source": [
    "**Motivation** : Comment stockeriez-vous les informations de 5 clients d'une banque ? Vous devez enregistrer\n",
    "\n",
    " - informations personnelles\n",
    " - les informations sur le compte bancaire,\n",
    " - informations sur les transactions"
   ]
  },
  {
   "cell_type": "markdown",
   "metadata": {},
   "source": [
    "### Introduction"
   ]
  },
  {
   "cell_type": "markdown",
   "metadata": {},
   "source": [
    "En 1970, le Dr E. F. Codd du laboratoire de recherche **IBM** a publié un article intitulé \"A Relational Model of Data for Large Shared Data Banks\".\n",
    "\n",
    "\n",
    "\n",
    "Il y proposait que les données puissent être représentées efficacement dans un ensemble de tableaux en établissant des relations entre certains de leurs champs."
   ]
  },
  {
   "cell_type": "markdown",
   "metadata": {},
   "source": [
    "C'est ainsi que les bases de données relationnelles ont vu le jour"
   ]
  },
  {
   "cell_type": "markdown",
   "metadata": {},
   "source": [
    "<img width=500 src=\"https://www.oreilly.com/api/v2/epubs/9781492057604/files/assets/lsq3_0103.png\">"
   ]
  },
  {
   "cell_type": "markdown",
   "metadata": {},
   "source": [
    "L'image montre quatre tableaux : clients, comptes, produits et transactions.\n",
    "\n",
    "\n",
    "\n",
    "En général, chaque table d'une base de données relationnelle comprend une clé primaire, unique à la table et identifiant la ligne correspondante.\n",
    "\n",
    "\n",
    "\n",
    "Chaque ligne comporte également des informations supplémentaires nécessaires à la description de l'entité.\n",
    "\n",
    "\n",
    "\n",
    "Remarques :\n",
    "\n",
    " - dans la table **Customer**, la colonne **cust_id** est une clé primaire : elle contient une valeur différente pour chaque client.\n",
    "\n",
    " - dans la table **Customer** il peut y avoir plus d'un George Blake\n",
    "\n",
    " - dans la table **Account**, la colonne **account_id** est la clé primaire : elle contient une valeur différente pour chaque compte.\n",
    "\n",
    " - dans la table **Account**, la colonne **cust_id** a des valeurs répétées, liées au client correspondant\n"
   ]
  },
  {
   "cell_type": "markdown",
   "metadata": {},
   "source": [
    "[Pourquoi ne pas utiliser excel comme base de données](https://www.bbc.com/news/technology-54423988)"
   ]
  },
  {
   "cell_type": "markdown",
   "metadata": {},
   "source": [
    "### SQL"
   ]
  },
  {
   "cell_type": "markdown",
   "metadata": {},
   "source": [
    "**S**tructured **Q**uery **L**language est un langage de base de données utilisé pour :\n",
    "\n",
    " - créer\n",
    "\n",
    " - gérer\n",
    "\n",
    " - consulter\n",
    "\n",
    "\n",
    "\n",
    "données d'une base de données relationnelle"
   ]
  },
  {
   "cell_type": "markdown",
   "metadata": {},
   "source": [
    "Une requête simple typique a la forme suivante :"
   ]
  },
  {
   "cell_type": "markdown",
   "metadata": {},
   "source": [
    "```sql\n",
    "SELECT * \n",
    "FROM Account\n",
    "WHERE balance > 1000\n",
    "```"
   ]
  },
  {
   "cell_type": "markdown",
   "metadata": {},
   "source": [
    "### Relations"
   ]
  },
  {
   "cell_type": "markdown",
   "metadata": {},
   "source": [
    "Les relations sont utilisées pour connecter les tables.\n",
    "\n",
    "\n",
    "\n",
    "Il est nécessaire de le préciser :\n",
    "\n",
    " - les tables à relier\n",
    "\n",
    " - les champs à utiliser pour la relation\n",
    "\n",
    " - le type de relation"
   ]
  },
  {
   "cell_type": "markdown",
   "metadata": {},
   "source": [
    "<img width=500 src=\"https://i.ibb.co/1McD7X7/join-in-sql-1.png\">"
   ]
  },
  {
   "cell_type": "markdown",
   "metadata": {},
   "source": [
    "Les types de relations les plus couramment utilisés sont les suivants :\n",
    "\n",
    "\n",
    "\n",
    " - **INNER JOIN** : renvoie les enregistrements qui ont des valeurs correspondantes dans les deux tables.\n",
    "\n",
    " - **LEFT JOIN** : renvoie tous les enregistrements de la table de gauche et les enregistrements correspondants de la table de droite.\n",
    "\n",
    " - **RIGHT JOIN** : renvoie tous les enregistrements de la table de droite et les enregistrements correspondants de la table de gauche.\n",
    "\n",
    " - **FULL OUTER JOIN** : renvoie tous les enregistrements lorsqu'il existe une correspondance dans la table de gauche ou de droite."
   ]
  },
  {
   "cell_type": "markdown",
   "metadata": {},
   "source": [
    "<img width=600 src=\"https://estradawebgroup.com/ImagesUpload/sql-joins.jpg\">"
   ]
  },
  {
   "cell_type": "markdown",
   "metadata": {},
   "source": [
    "**Exercice** : étant donné ces deux tableaux,"
   ]
  },
  {
   "cell_type": "code",
   "execution_count": 1,
   "metadata": {},
   "outputs": [],
   "source": [
    "import pandas as pd"
   ]
  },
  {
   "cell_type": "code",
   "execution_count": 2,
   "metadata": {},
   "outputs": [],
   "source": [
    "customers = pd.read_csv(\"../datasets/customers_sample.csv\")"
   ]
  },
  {
   "cell_type": "code",
   "execution_count": 3,
   "metadata": {},
   "outputs": [],
   "source": [
    "orders = pd.read_csv(\"../datasets/orders_sample.csv\")"
   ]
  },
  {
   "cell_type": "code",
   "execution_count": 4,
   "metadata": {},
   "outputs": [
    {
     "data": {
      "text/html": [
       "<div>\n",
       "<style scoped>\n",
       "    .dataframe tbody tr th:only-of-type {\n",
       "        vertical-align: middle;\n",
       "    }\n",
       "\n",
       "    .dataframe tbody tr th {\n",
       "        vertical-align: top;\n",
       "    }\n",
       "\n",
       "    .dataframe thead th {\n",
       "        text-align: right;\n",
       "    }\n",
       "</style>\n",
       "<table border=\"1\" class=\"dataframe\">\n",
       "  <thead>\n",
       "    <tr style=\"text-align: right;\">\n",
       "      <th></th>\n",
       "      <th>customer_id</th>\n",
       "      <th>first_name</th>\n",
       "    </tr>\n",
       "  </thead>\n",
       "  <tbody>\n",
       "    <tr>\n",
       "      <th>0</th>\n",
       "      <td>1</td>\n",
       "      <td>María</td>\n",
       "    </tr>\n",
       "    <tr>\n",
       "      <th>1</th>\n",
       "      <td>2</td>\n",
       "      <td>Luis</td>\n",
       "    </tr>\n",
       "    <tr>\n",
       "      <th>2</th>\n",
       "      <td>3</td>\n",
       "      <td>Jennifer</td>\n",
       "    </tr>\n",
       "    <tr>\n",
       "      <th>3</th>\n",
       "      <td>4</td>\n",
       "      <td>María</td>\n",
       "    </tr>\n",
       "    <tr>\n",
       "      <th>4</th>\n",
       "      <td>5</td>\n",
       "      <td>Sergio</td>\n",
       "    </tr>\n",
       "  </tbody>\n",
       "</table>\n",
       "</div>"
      ],
      "text/plain": [
       "   customer_id first_name\n",
       "0            1      María\n",
       "1            2       Luis\n",
       "2            3   Jennifer\n",
       "3            4      María\n",
       "4            5     Sergio"
      ]
     },
     "execution_count": 4,
     "metadata": {},
     "output_type": "execute_result"
    }
   ],
   "source": [
    "customers"
   ]
  },
  {
   "cell_type": "code",
   "execution_count": 5,
   "metadata": {},
   "outputs": [
    {
     "data": {
      "text/html": [
       "<div>\n",
       "<style scoped>\n",
       "    .dataframe tbody tr th:only-of-type {\n",
       "        vertical-align: middle;\n",
       "    }\n",
       "\n",
       "    .dataframe tbody tr th {\n",
       "        vertical-align: top;\n",
       "    }\n",
       "\n",
       "    .dataframe thead th {\n",
       "        text-align: right;\n",
       "    }\n",
       "</style>\n",
       "<table border=\"1\" class=\"dataframe\">\n",
       "  <thead>\n",
       "    <tr style=\"text-align: right;\">\n",
       "      <th></th>\n",
       "      <th>order_id</th>\n",
       "      <th>amount</th>\n",
       "      <th>customer</th>\n",
       "    </tr>\n",
       "  </thead>\n",
       "  <tbody>\n",
       "    <tr>\n",
       "      <th>0</th>\n",
       "      <td>1</td>\n",
       "      <td>100</td>\n",
       "      <td>2</td>\n",
       "    </tr>\n",
       "    <tr>\n",
       "      <th>1</th>\n",
       "      <td>2</td>\n",
       "      <td>200</td>\n",
       "      <td>3</td>\n",
       "    </tr>\n",
       "    <tr>\n",
       "      <th>2</th>\n",
       "      <td>3</td>\n",
       "      <td>500</td>\n",
       "      <td>9</td>\n",
       "    </tr>\n",
       "    <tr>\n",
       "      <th>3</th>\n",
       "      <td>4</td>\n",
       "      <td>100</td>\n",
       "      <td>2</td>\n",
       "    </tr>\n",
       "    <tr>\n",
       "      <th>4</th>\n",
       "      <td>5</td>\n",
       "      <td>300</td>\n",
       "      <td>8</td>\n",
       "    </tr>\n",
       "    <tr>\n",
       "      <th>5</th>\n",
       "      <td>6</td>\n",
       "      <td>400</td>\n",
       "      <td>7</td>\n",
       "    </tr>\n",
       "  </tbody>\n",
       "</table>\n",
       "</div>"
      ],
      "text/plain": [
       "   order_id  amount  customer\n",
       "0         1     100         2\n",
       "1         2     200         3\n",
       "2         3     500         9\n",
       "3         4     100         2\n",
       "4         5     300         8\n",
       "5         6     400         7"
      ]
     },
     "execution_count": 5,
     "metadata": {},
     "output_type": "execute_result"
    }
   ],
   "source": [
    "orders"
   ]
  },
  {
   "cell_type": "markdown",
   "metadata": {},
   "source": [
    "Quel résultat obtenons-nous en établissant une relation par le champ `customers.customer_id` et `orders.customer` dans chacun de ces cas ?\n",
    "\n",
    " - INNER JOIN\n",
    "\n",
    " - LEFT JOIN\n",
    "\n",
    " - RIGHT JOIN\n",
    "\n",
    " - OUTER JOIN"
   ]
  },
  {
   "cell_type": "markdown",
   "metadata": {},
   "source": [
    "#### Inner join"
   ]
  },
  {
   "cell_type": "code",
   "execution_count": 6,
   "metadata": {},
   "outputs": [
    {
     "data": {
      "text/html": [
       "<div>\n",
       "<style scoped>\n",
       "    .dataframe tbody tr th:only-of-type {\n",
       "        vertical-align: middle;\n",
       "    }\n",
       "\n",
       "    .dataframe tbody tr th {\n",
       "        vertical-align: top;\n",
       "    }\n",
       "\n",
       "    .dataframe thead th {\n",
       "        text-align: right;\n",
       "    }\n",
       "</style>\n",
       "<table border=\"1\" class=\"dataframe\">\n",
       "  <thead>\n",
       "    <tr style=\"text-align: right;\">\n",
       "      <th></th>\n",
       "      <th>customer_id</th>\n",
       "      <th>first_name</th>\n",
       "      <th>order_id</th>\n",
       "      <th>amount</th>\n",
       "      <th>customer</th>\n",
       "    </tr>\n",
       "  </thead>\n",
       "  <tbody>\n",
       "    <tr>\n",
       "      <th>0</th>\n",
       "      <td>2</td>\n",
       "      <td>Luis</td>\n",
       "      <td>1</td>\n",
       "      <td>100</td>\n",
       "      <td>2</td>\n",
       "    </tr>\n",
       "    <tr>\n",
       "      <th>1</th>\n",
       "      <td>2</td>\n",
       "      <td>Luis</td>\n",
       "      <td>4</td>\n",
       "      <td>100</td>\n",
       "      <td>2</td>\n",
       "    </tr>\n",
       "    <tr>\n",
       "      <th>2</th>\n",
       "      <td>3</td>\n",
       "      <td>Jennifer</td>\n",
       "      <td>2</td>\n",
       "      <td>200</td>\n",
       "      <td>3</td>\n",
       "    </tr>\n",
       "  </tbody>\n",
       "</table>\n",
       "</div>"
      ],
      "text/plain": [
       "   customer_id first_name  order_id  amount  customer\n",
       "0            2       Luis         1     100         2\n",
       "1            2       Luis         4     100         2\n",
       "2            3   Jennifer         2     200         3"
      ]
     },
     "execution_count": 6,
     "metadata": {},
     "output_type": "execute_result"
    }
   ],
   "source": [
    "pd.merge(\n",
    "    left=customers, \n",
    "    right=orders, \n",
    "    left_on=\"customer_id\",\n",
    "    right_on=\"customer\",\n",
    "    how=\"inner\"\n",
    ")"
   ]
  },
  {
   "cell_type": "markdown",
   "metadata": {},
   "source": [
    "#### Left join"
   ]
  },
  {
   "cell_type": "code",
   "execution_count": 7,
   "metadata": {},
   "outputs": [
    {
     "data": {
      "text/html": [
       "<div>\n",
       "<style scoped>\n",
       "    .dataframe tbody tr th:only-of-type {\n",
       "        vertical-align: middle;\n",
       "    }\n",
       "\n",
       "    .dataframe tbody tr th {\n",
       "        vertical-align: top;\n",
       "    }\n",
       "\n",
       "    .dataframe thead th {\n",
       "        text-align: right;\n",
       "    }\n",
       "</style>\n",
       "<table border=\"1\" class=\"dataframe\">\n",
       "  <thead>\n",
       "    <tr style=\"text-align: right;\">\n",
       "      <th></th>\n",
       "      <th>customer_id</th>\n",
       "      <th>first_name</th>\n",
       "      <th>order_id</th>\n",
       "      <th>amount</th>\n",
       "      <th>customer</th>\n",
       "    </tr>\n",
       "  </thead>\n",
       "  <tbody>\n",
       "    <tr>\n",
       "      <th>0</th>\n",
       "      <td>1</td>\n",
       "      <td>María</td>\n",
       "      <td>NaN</td>\n",
       "      <td>NaN</td>\n",
       "      <td>NaN</td>\n",
       "    </tr>\n",
       "    <tr>\n",
       "      <th>1</th>\n",
       "      <td>2</td>\n",
       "      <td>Luis</td>\n",
       "      <td>1.0</td>\n",
       "      <td>100.0</td>\n",
       "      <td>2.0</td>\n",
       "    </tr>\n",
       "    <tr>\n",
       "      <th>2</th>\n",
       "      <td>2</td>\n",
       "      <td>Luis</td>\n",
       "      <td>4.0</td>\n",
       "      <td>100.0</td>\n",
       "      <td>2.0</td>\n",
       "    </tr>\n",
       "    <tr>\n",
       "      <th>3</th>\n",
       "      <td>3</td>\n",
       "      <td>Jennifer</td>\n",
       "      <td>2.0</td>\n",
       "      <td>200.0</td>\n",
       "      <td>3.0</td>\n",
       "    </tr>\n",
       "    <tr>\n",
       "      <th>4</th>\n",
       "      <td>4</td>\n",
       "      <td>María</td>\n",
       "      <td>NaN</td>\n",
       "      <td>NaN</td>\n",
       "      <td>NaN</td>\n",
       "    </tr>\n",
       "    <tr>\n",
       "      <th>5</th>\n",
       "      <td>5</td>\n",
       "      <td>Sergio</td>\n",
       "      <td>NaN</td>\n",
       "      <td>NaN</td>\n",
       "      <td>NaN</td>\n",
       "    </tr>\n",
       "  </tbody>\n",
       "</table>\n",
       "</div>"
      ],
      "text/plain": [
       "   customer_id first_name  order_id  amount  customer\n",
       "0            1      María       NaN     NaN       NaN\n",
       "1            2       Luis       1.0   100.0       2.0\n",
       "2            2       Luis       4.0   100.0       2.0\n",
       "3            3   Jennifer       2.0   200.0       3.0\n",
       "4            4      María       NaN     NaN       NaN\n",
       "5            5     Sergio       NaN     NaN       NaN"
      ]
     },
     "execution_count": 7,
     "metadata": {},
     "output_type": "execute_result"
    }
   ],
   "source": [
    "pd.merge(\n",
    "    left=customers, \n",
    "    right=orders, \n",
    "    left_on=\"customer_id\",\n",
    "    right_on=\"customer\",\n",
    "    how=\"left\",\n",
    ")"
   ]
  },
  {
   "cell_type": "markdown",
   "metadata": {},
   "source": [
    "#### Right join"
   ]
  },
  {
   "cell_type": "code",
   "execution_count": 8,
   "metadata": {},
   "outputs": [
    {
     "data": {
      "text/html": [
       "<div>\n",
       "<style scoped>\n",
       "    .dataframe tbody tr th:only-of-type {\n",
       "        vertical-align: middle;\n",
       "    }\n",
       "\n",
       "    .dataframe tbody tr th {\n",
       "        vertical-align: top;\n",
       "    }\n",
       "\n",
       "    .dataframe thead th {\n",
       "        text-align: right;\n",
       "    }\n",
       "</style>\n",
       "<table border=\"1\" class=\"dataframe\">\n",
       "  <thead>\n",
       "    <tr style=\"text-align: right;\">\n",
       "      <th></th>\n",
       "      <th>customer_id</th>\n",
       "      <th>first_name</th>\n",
       "      <th>order_id</th>\n",
       "      <th>amount</th>\n",
       "      <th>customer</th>\n",
       "    </tr>\n",
       "  </thead>\n",
       "  <tbody>\n",
       "    <tr>\n",
       "      <th>0</th>\n",
       "      <td>2.0</td>\n",
       "      <td>Luis</td>\n",
       "      <td>1</td>\n",
       "      <td>100</td>\n",
       "      <td>2</td>\n",
       "    </tr>\n",
       "    <tr>\n",
       "      <th>1</th>\n",
       "      <td>2.0</td>\n",
       "      <td>Luis</td>\n",
       "      <td>4</td>\n",
       "      <td>100</td>\n",
       "      <td>2</td>\n",
       "    </tr>\n",
       "    <tr>\n",
       "      <th>2</th>\n",
       "      <td>3.0</td>\n",
       "      <td>Jennifer</td>\n",
       "      <td>2</td>\n",
       "      <td>200</td>\n",
       "      <td>3</td>\n",
       "    </tr>\n",
       "    <tr>\n",
       "      <th>3</th>\n",
       "      <td>NaN</td>\n",
       "      <td>NaN</td>\n",
       "      <td>3</td>\n",
       "      <td>500</td>\n",
       "      <td>9</td>\n",
       "    </tr>\n",
       "    <tr>\n",
       "      <th>4</th>\n",
       "      <td>NaN</td>\n",
       "      <td>NaN</td>\n",
       "      <td>5</td>\n",
       "      <td>300</td>\n",
       "      <td>8</td>\n",
       "    </tr>\n",
       "    <tr>\n",
       "      <th>5</th>\n",
       "      <td>NaN</td>\n",
       "      <td>NaN</td>\n",
       "      <td>6</td>\n",
       "      <td>400</td>\n",
       "      <td>7</td>\n",
       "    </tr>\n",
       "  </tbody>\n",
       "</table>\n",
       "</div>"
      ],
      "text/plain": [
       "   customer_id first_name  order_id  amount  customer\n",
       "0          2.0       Luis         1     100         2\n",
       "1          2.0       Luis         4     100         2\n",
       "2          3.0   Jennifer         2     200         3\n",
       "3          NaN        NaN         3     500         9\n",
       "4          NaN        NaN         5     300         8\n",
       "5          NaN        NaN         6     400         7"
      ]
     },
     "execution_count": 8,
     "metadata": {},
     "output_type": "execute_result"
    }
   ],
   "source": [
    "pd.merge(\n",
    "    left=customers, \n",
    "    right=orders, \n",
    "    left_on=\"customer_id\",\n",
    "    right_on=\"customer\",\n",
    "    how=\"right\"\n",
    ")"
   ]
  },
  {
   "cell_type": "markdown",
   "metadata": {},
   "source": [
    "#### Outer join"
   ]
  },
  {
   "cell_type": "code",
   "execution_count": 9,
   "metadata": {},
   "outputs": [
    {
     "data": {
      "text/html": [
       "<div>\n",
       "<style scoped>\n",
       "    .dataframe tbody tr th:only-of-type {\n",
       "        vertical-align: middle;\n",
       "    }\n",
       "\n",
       "    .dataframe tbody tr th {\n",
       "        vertical-align: top;\n",
       "    }\n",
       "\n",
       "    .dataframe thead th {\n",
       "        text-align: right;\n",
       "    }\n",
       "</style>\n",
       "<table border=\"1\" class=\"dataframe\">\n",
       "  <thead>\n",
       "    <tr style=\"text-align: right;\">\n",
       "      <th></th>\n",
       "      <th>customer_id</th>\n",
       "      <th>first_name</th>\n",
       "      <th>order_id</th>\n",
       "      <th>amount</th>\n",
       "      <th>customer</th>\n",
       "    </tr>\n",
       "  </thead>\n",
       "  <tbody>\n",
       "    <tr>\n",
       "      <th>0</th>\n",
       "      <td>1.0</td>\n",
       "      <td>María</td>\n",
       "      <td>NaN</td>\n",
       "      <td>NaN</td>\n",
       "      <td>NaN</td>\n",
       "    </tr>\n",
       "    <tr>\n",
       "      <th>1</th>\n",
       "      <td>2.0</td>\n",
       "      <td>Luis</td>\n",
       "      <td>1.0</td>\n",
       "      <td>100.0</td>\n",
       "      <td>2.0</td>\n",
       "    </tr>\n",
       "    <tr>\n",
       "      <th>2</th>\n",
       "      <td>2.0</td>\n",
       "      <td>Luis</td>\n",
       "      <td>4.0</td>\n",
       "      <td>100.0</td>\n",
       "      <td>2.0</td>\n",
       "    </tr>\n",
       "    <tr>\n",
       "      <th>3</th>\n",
       "      <td>3.0</td>\n",
       "      <td>Jennifer</td>\n",
       "      <td>2.0</td>\n",
       "      <td>200.0</td>\n",
       "      <td>3.0</td>\n",
       "    </tr>\n",
       "    <tr>\n",
       "      <th>4</th>\n",
       "      <td>4.0</td>\n",
       "      <td>María</td>\n",
       "      <td>NaN</td>\n",
       "      <td>NaN</td>\n",
       "      <td>NaN</td>\n",
       "    </tr>\n",
       "    <tr>\n",
       "      <th>5</th>\n",
       "      <td>5.0</td>\n",
       "      <td>Sergio</td>\n",
       "      <td>NaN</td>\n",
       "      <td>NaN</td>\n",
       "      <td>NaN</td>\n",
       "    </tr>\n",
       "    <tr>\n",
       "      <th>6</th>\n",
       "      <td>NaN</td>\n",
       "      <td>NaN</td>\n",
       "      <td>3.0</td>\n",
       "      <td>500.0</td>\n",
       "      <td>9.0</td>\n",
       "    </tr>\n",
       "    <tr>\n",
       "      <th>7</th>\n",
       "      <td>NaN</td>\n",
       "      <td>NaN</td>\n",
       "      <td>5.0</td>\n",
       "      <td>300.0</td>\n",
       "      <td>8.0</td>\n",
       "    </tr>\n",
       "    <tr>\n",
       "      <th>8</th>\n",
       "      <td>NaN</td>\n",
       "      <td>NaN</td>\n",
       "      <td>6.0</td>\n",
       "      <td>400.0</td>\n",
       "      <td>7.0</td>\n",
       "    </tr>\n",
       "  </tbody>\n",
       "</table>\n",
       "</div>"
      ],
      "text/plain": [
       "   customer_id first_name  order_id  amount  customer\n",
       "0          1.0      María       NaN     NaN       NaN\n",
       "1          2.0       Luis       1.0   100.0       2.0\n",
       "2          2.0       Luis       4.0   100.0       2.0\n",
       "3          3.0   Jennifer       2.0   200.0       3.0\n",
       "4          4.0      María       NaN     NaN       NaN\n",
       "5          5.0     Sergio       NaN     NaN       NaN\n",
       "6          NaN        NaN       3.0   500.0       9.0\n",
       "7          NaN        NaN       5.0   300.0       8.0\n",
       "8          NaN        NaN       6.0   400.0       7.0"
      ]
     },
     "execution_count": 9,
     "metadata": {},
     "output_type": "execute_result"
    }
   ],
   "source": [
    "pd.merge(\n",
    "    left=customers, \n",
    "    right=orders, \n",
    "    left_on=\"customer_id\",\n",
    "    right_on=\"customer\",\n",
    "    how=\"outer\"\n",
    ")"
   ]
  },
  {
   "cell_type": "markdown",
   "metadata": {},
   "source": [
    "Un rappel amusant :"
   ]
  },
  {
   "cell_type": "markdown",
   "metadata": {},
   "source": [
    "<img width=300 src=\"https://external-preview.redd.it/yOLzCR0qSzul2WpjQorxINB0xpU3_N9twmFVsgbGJwQ.jpg?auto=webp&s=4feedc91302ba635b3028a21b98d047def5cdc2b\" style=\"transform:rotate(90deg);\">"
   ]
  },
  {
   "cell_type": "markdown",
   "metadata": {},
   "source": [
    "Dans Power BI, nous établissons les relations dans la vue **Model**."
   ]
  },
  {
   "cell_type": "markdown",
   "metadata": {},
   "source": [
    "## NoSQL"
   ]
  },
  {
   "cell_type": "markdown",
   "metadata": {},
   "source": [
    "Il existe également des bases de données **non relationnelles** (également appelées NoSQL). Ils stockent les données non pas sous forme de tableaux, mais dans des structures de type document, JSON."
   ]
  },
  {
   "cell_type": "markdown",
   "metadata": {},
   "source": [
    "```json\n",
    "[\n",
    "    {\n",
    "        \"id\": 1,\n",
    "        \"name\": \"John\",\n",
    "        \"age\": 44,\n",
    "        \"sports\":\n",
    "            [\n",
    "                \"soccer\",\n",
    "                \"basket\",\n",
    "                \"volley\"\n",
    "            ],\n",
    "        \"has_children\": 1,\n",
    "    },\n",
    "    {\n",
    "        \"id\": 2,\n",
    "        \"name\": \"Marie\"\n",
    "    },\n",
    "    {\n",
    "        \"id\": 3,\n",
    "        \"name\": \"Jason\",\n",
    "        \"has_children\": 0\n",
    "    }\n",
    "]\n",
    "```"
   ]
  },
  {
   "cell_type": "markdown",
   "metadata": {},
   "source": [
    "Les bases de données NoSQL sont devenues très populaires ces dernières années. Elles présentent des avantages et des inconvénients par rapport aux bases de données relationnelles (SQL)."
   ]
  },
  {
   "cell_type": "markdown",
   "metadata": {},
   "source": [
    "## PowerBI"
   ]
  },
  {
   "cell_type": "markdown",
   "metadata": {},
   "source": [
    "Nous utiliserons la base de données WWI (Wide World Importers) (plusieurs tables).\n",
    "\n",
    "\n",
    "\n",
    "Contient les transactions d'un grossiste vers plusieurs détaillants."
   ]
  },
  {
   "cell_type": "markdown",
   "metadata": {},
   "source": [
    "Les principaux tableaux sont les suivants :\n",
    "\n",
    " - sales.csv : transactions\n",
    "\n",
    " - customers.csv : clients\n",
    "\n",
    " - employees.xlsx : employés\n",
    "\n",
    " - cities.csv : régions\n",
    "\n",
    " - dates.csv : dates\n",
    "\n",
    " - stock.csv : produits"
   ]
  },
  {
   "cell_type": "markdown",
   "metadata": {},
   "source": [
    "### Interface"
   ]
  },
  {
   "cell_type": "markdown",
   "metadata": {},
   "source": [
    "Il y a 3 vues\n",
    "\n",
    " - Report : C'est ici que nous configurons nos tableaux de bord. Il comporte plusieurs pages\n",
    " - Data : nous explorons ici le détail des données.\n",
    " - Model : nous déterminons ici les relations entre les tables"
   ]
  },
  {
   "cell_type": "markdown",
   "metadata": {},
   "source": [
    "### Visualisations"
   ]
  },
  {
   "cell_type": "markdown",
   "metadata": {},
   "source": [
    "Certains des graphiques les plus courants dans PowerBI sont :"
   ]
  },
  {
   "cell_type": "markdown",
   "metadata": {},
   "source": [
    " - Column Chart\n",
    " - Stacked Chart\n",
    " - Card\n",
    " - Slicer\n",
    " - Table\n",
    " - Pie and Donut chart\n",
    " - Map"
   ]
  },
  {
   "cell_type": "markdown",
   "metadata": {},
   "source": [
    "### Transformations de données"
   ]
  },
  {
   "cell_type": "markdown",
   "metadata": {},
   "source": [
    "En tant qu'analystes de données, nous avons parfois envie de le faire :\n",
    "\n",
    "  * Sauter des colonnes\n",
    "\n",
    "  * Formater correctement une colonne\n",
    "\n",
    "  * Ajouter ou supprimer des caractères\n",
    "\n",
    "  * Gérer les valeurs nulles\n",
    "\n",
    "  * Limiter le nombre de lignes\n",
    "\n",
    "  * Modifier le texte des colonnes\n",
    "\n",
    "  * etc..."
   ]
  },
  {
   "cell_type": "markdown",
   "metadata": {},
   "source": [
    "#### Power Query"
   ]
  },
  {
   "cell_type": "markdown",
   "metadata": {},
   "source": [
    "Il s'agit d'un onglet séparé que nous utilisons pour **prétraiter avant de charger** les données.\n",
    "\n",
    "\n",
    "\n",
    "Il utilise le langage M, bien qu'il ne soit pas nécessaire de le maîtriser pour pouvoir le prétraiter.\n",
    "\n",
    "\n",
    "\n",
    "Nous devons toujours **fermer et appliquer** pour faire nos changements."
   ]
  },
  {
   "cell_type": "markdown",
   "metadata": {},
   "source": [
    "Algunas features muy utilizadas son:\n",
    " - Change type\n",
    " - Remove rows\n",
    " - Use first row as header\n",
    " - Remove columns"
   ]
  },
  {
   "cell_type": "markdown",
   "metadata": {},
   "source": [
    "### Autre"
   ]
  },
  {
   "cell_type": "markdown",
   "metadata": {},
   "source": [
    " - Paramètres régionaux : `.`, `,` décimales\n",
    "\n",
    " - Entrer de nouvelles données\n",
    "\n",
    " - Colonnes d'index"
   ]
  },
  {
   "cell_type": "markdown",
   "metadata": {},
   "source": [
    "## Appendice"
   ]
  },
  {
   "cell_type": "markdown",
   "metadata": {},
   "source": [
    "### l'exponentielle"
   ]
  },
  {
   "cell_type": "markdown",
   "metadata": {},
   "source": [
    "**Exemple** : J'ai 1000 euros à la banque. Chaque année, je reçois 5% de mon argent. Combien d'argent est ce que j'ai?\n",
    "\n",
    " - après 1 an\n",
    "\n",
    " - après 2 ans\n",
    "\n",
    " - après 50 ans"
   ]
  },
  {
   "cell_type": "code",
   "execution_count": 10,
   "metadata": {},
   "outputs": [
    {
     "data": {
      "text/plain": [
       "50.0"
      ]
     },
     "execution_count": 10,
     "metadata": {},
     "output_type": "execute_result"
    }
   ],
   "source": [
    "1000 * 5 / 100"
   ]
  },
  {
   "cell_type": "markdown",
   "metadata": {},
   "source": [
    "An 1"
   ]
  },
  {
   "cell_type": "markdown",
   "metadata": {},
   "source": [
    "$1000 + 1000 \\cdot 5 / 100 = 1000(1 + \\frac{5}{100})=1000 \\cdot 1.05$"
   ]
  },
  {
   "cell_type": "markdown",
   "metadata": {},
   "source": [
    "An 2"
   ]
  },
  {
   "cell_type": "markdown",
   "metadata": {},
   "source": [
    "$1000 \\cdot 1.05 \\cdot 1.05 = 1000 \\cdot 1.05^2$"
   ]
  },
  {
   "cell_type": "markdown",
   "metadata": {},
   "source": [
    "An 50"
   ]
  },
  {
   "cell_type": "markdown",
   "metadata": {},
   "source": [
    "$1000 \\cdot 1.05^{50}$"
   ]
  },
  {
   "cell_type": "code",
   "execution_count": 11,
   "metadata": {},
   "outputs": [],
   "source": [
    "import numpy as np\n",
    "import matplotlib.pyplot as plt"
   ]
  },
  {
   "cell_type": "code",
   "execution_count": 12,
   "metadata": {},
   "outputs": [],
   "source": [
    "n_years = 50"
   ]
  },
  {
   "cell_type": "code",
   "execution_count": 13,
   "metadata": {},
   "outputs": [],
   "source": [
    "years = np.arange(0, n_years, 1)"
   ]
  },
  {
   "cell_type": "code",
   "execution_count": 14,
   "metadata": {},
   "outputs": [],
   "source": [
    "money_simple = 1000 * (1 + 5 / 100 * years)"
   ]
  },
  {
   "cell_type": "code",
   "execution_count": 15,
   "metadata": {},
   "outputs": [],
   "source": [
    "money_compuesto = 1000 * (1 + 5 / 100) ** years"
   ]
  },
  {
   "cell_type": "code",
   "execution_count": 16,
   "metadata": {},
   "outputs": [
    {
     "name": "stdout",
     "output_type": "stream",
     "text": [
      "Après 50 ans j ai 3450.0 simple\n"
     ]
    }
   ],
   "source": [
    "print(f\"Après {n_years} ans j ai {money_simple[-1].round()} simple\")"
   ]
  },
  {
   "cell_type": "code",
   "execution_count": 17,
   "metadata": {},
   "outputs": [
    {
     "name": "stdout",
     "output_type": "stream",
     "text": [
      "Après 50 ans j ai 10921.0 composé\n"
     ]
    }
   ],
   "source": [
    "print(f\"Après {n_years} ans j ai {money_compuesto[-1].round()} composé\")"
   ]
  },
  {
   "cell_type": "code",
   "execution_count": 18,
   "metadata": {},
   "outputs": [
    {
     "data": {
      "text/plain": [
       "<matplotlib.legend.Legend at 0x1d2bc99c0a0>"
      ]
     },
     "execution_count": 18,
     "metadata": {},
     "output_type": "execute_result"
    },
    {
     "data": {
      "image/png": "[encoded data removed]",
      "text/plain": [
       "<Figure size 432x288 with 1 Axes>"
      ]
     },
     "metadata": {
      "needs_background": "light"
     },
     "output_type": "display_data"
    }
   ],
   "source": [
    "plt.plot(years, money_simple, label=\"interet simple\")\n",
    "plt.plot(years, money_compuesto, \"-\", label=\"interet composé\")\n",
    "plt.legend()"
   ]
  },
  {
   "cell_type": "markdown",
   "metadata": {},
   "source": [
    "Dans l'exponentielle, une **augmentation d'une unité de X** implique une **multiplication de Y** par une constante."
   ]
  },
  {
   "cell_type": "markdown",
   "metadata": {},
   "source": [
    "$2^3=2 \\cdot 2 \\cdot 2 = 8$  \n",
    "$2^4=16$"
   ]
  },
  {
   "cell_type": "markdown",
   "metadata": {},
   "source": [
    "$10^3= 1000$\n",
    "\n",
    "$10^4= 10000$\n",
    "\n",
    "$10^{-2}=\\frac{1}{10^2}=\\frac{1}{100}$"
   ]
  },
  {
   "cell_type": "markdown",
   "metadata": {},
   "source": [
    "### le logarithme"
   ]
  },
  {
   "cell_type": "markdown",
   "metadata": {},
   "source": [
    "Est la réciproque de l'exponentielle"
   ]
  },
  {
   "cell_type": "markdown",
   "metadata": {},
   "source": [
    "$\\log_{10}(1000) = $"
   ]
  },
  {
   "cell_type": "markdown",
   "metadata": {},
   "source": [
    "À quel nombre dois-je réunir 10  pour obtenir 1000  ?"
   ]
  },
  {
   "cell_type": "markdown",
   "metadata": {},
   "source": [
    "$10^3 = 1000 \\Rightarrow \\log_{10}(1000) = 3$"
   ]
  },
  {
   "cell_type": "markdown",
   "metadata": {},
   "source": [
    "**Exercices**"
   ]
  },
  {
   "cell_type": "markdown",
   "metadata": {},
   "source": [
    "$\\log_{3}(9) = 2$"
   ]
  },
  {
   "cell_type": "markdown",
   "metadata": {},
   "source": [
    "$\\log_{2}(2) = 1$"
   ]
  },
  {
   "cell_type": "markdown",
   "metadata": {},
   "source": [
    "$\\log_{10}(10^7) =7 $"
   ]
  },
  {
   "cell_type": "markdown",
   "metadata": {},
   "source": [
    "$\\log_{5}(1) =0 $"
   ]
  },
  {
   "cell_type": "markdown",
   "metadata": {},
   "source": [
    "$\\log_{2}(0.25) = \\log_{2}(\\frac{1}{4})=\\log_{2}(\\frac{1}{2^2})=\\log_{2}(2^{-2})=-2$"
   ]
  },
  {
   "cell_type": "markdown",
   "metadata": {},
   "source": [
    "Plot $\\log_{10}(x)$"
   ]
  },
  {
   "cell_type": "markdown",
   "metadata": {},
   "source": [
    "|x    |y |\n",
    "|--   |--|\n",
    "|1    |0 |\n",
    "|10   |1 |\n",
    "|100  |2 |\n",
    "|1000 |3 |\n",
    "\n"
   ]
  },
  {
   "cell_type": "code",
   "execution_count": 19,
   "metadata": {},
   "outputs": [],
   "source": [
    "x = np.arange(1, 1000, 1)"
   ]
  },
  {
   "cell_type": "code",
   "execution_count": 20,
   "metadata": {},
   "outputs": [],
   "source": [
    "y = np.log10(x)"
   ]
  },
  {
   "cell_type": "markdown",
   "metadata": {},
   "source": [
    "Plot $\\log_{10}(x)$"
   ]
  },
  {
   "cell_type": "code",
   "execution_count": 21,
   "metadata": {},
   "outputs": [
    {
     "data": {
      "text/plain": [
       "<matplotlib.legend.Legend at 0x1d2bcaceca0>"
      ]
     },
     "execution_count": 21,
     "metadata": {},
     "output_type": "execute_result"
    },
    {
     "data": {
      "image/png": "[encoded data removed]",
      "text/plain": [
       "<Figure size 1440x144 with 1 Axes>"
      ]
     },
     "metadata": {
      "needs_background": "light"
     },
     "output_type": "display_data"
    }
   ],
   "source": [
    "fig, ax = plt.subplots(figsize=(20, 2))\n",
    "ax.plot(x, y, label=\"$log_{10}(x)$\")\n",
    "# X and Y axes\n",
    "ax.axhline(y=0, color='k')\n",
    "ax.axvline(x=0, color='k')\n",
    "\n",
    "# set axes' limits\n",
    "ax.set_xlim([0, 100])\n",
    "ax.set_ylim([0, 3])\n",
    "\n",
    "fig.legend()"
   ]
  },
  {
   "cell_type": "code",
   "execution_count": 22,
   "metadata": {},
   "outputs": [
    {
     "data": {
      "text/plain": [
       "<matplotlib.legend.Legend at 0x1d2bcbb9fd0>"
      ]
     },
     "execution_count": 22,
     "metadata": {},
     "output_type": "execute_result"
    },
    {
     "data": {
      "image/png": "[encoded data removed]",
      "text/plain": [
       "<Figure size 432x288 with 1 Axes>"
      ]
     },
     "metadata": {
      "needs_background": "light"
     },
     "output_type": "display_data"
    }
   ],
   "source": [
    "fig, ax = plt.subplots()\n",
    "ax.plot(x, y, label=\"$log_{10}(x)$\")\n",
    "# X and Y axes\n",
    "ax.axhline(y=0, color='k')\n",
    "ax.axvline(x=0, color='k')\n",
    "\n",
    "fig.legend()"
   ]
  },
  {
   "cell_type": "markdown",
   "metadata": {},
   "source": [
    "Le logarithme transforme des nombres d'échelles différentes (10, 100, 1000) en nombres similaires (1, 2, 3)."
   ]
  },
  {
   "cell_type": "markdown",
   "metadata": {},
   "source": [
    "Exemple de salaires"
   ]
  },
  {
   "cell_type": "code",
   "execution_count": 23,
   "metadata": {},
   "outputs": [],
   "source": [
    "salaries = 10 ** (np.random.rand(300) * 3 + 2)"
   ]
  },
  {
   "cell_type": "code",
   "execution_count": 24,
   "metadata": {},
   "outputs": [
    {
     "data": {
      "text/plain": [
       "array([  118. , 12865.8,  1503.5,   256.2, 32306.4,   218.5, 23135.8,\n",
       "         191.7, 87329.3,   320.9])"
      ]
     },
     "execution_count": 24,
     "metadata": {},
     "output_type": "execute_result"
    }
   ],
   "source": [
    "salaries[:10].round(1)"
   ]
  },
  {
   "cell_type": "code",
   "execution_count": 25,
   "metadata": {},
   "outputs": [],
   "source": [
    "import seaborn as sns"
   ]
  },
  {
   "cell_type": "markdown",
   "metadata": {},
   "source": [
    "Un graphique des salaires n'est pas très clair"
   ]
  },
  {
   "cell_type": "code",
   "execution_count": 26,
   "metadata": {},
   "outputs": [
    {
     "data": {
      "text/plain": [
       "<AxesSubplot:ylabel='Count'>"
      ]
     },
     "execution_count": 26,
     "metadata": {},
     "output_type": "execute_result"
    },
    {
     "data": {
      "image/png": "[encoded data removed]",
      "text/plain": [
       "<Figure size 432x288 with 1 Axes>"
      ]
     },
     "metadata": {
      "needs_background": "light"
     },
     "output_type": "display_data"
    }
   ],
   "source": [
    "sns.histplot(x=salaries)"
   ]
  },
  {
   "cell_type": "markdown",
   "metadata": {},
   "source": [
    "Un graphique du logarithme des salaires est plus clair."
   ]
  },
  {
   "cell_type": "code",
   "execution_count": 27,
   "metadata": {},
   "outputs": [
    {
     "data": {
      "text/plain": [
       "<AxesSubplot:ylabel='Count'>"
      ]
     },
     "execution_count": 27,
     "metadata": {},
     "output_type": "execute_result"
    },
    {
     "data": {
      "image/png": "[encoded data removed]",
      "text/plain": [
       "<Figure size 432x288 with 1 Axes>"
      ]
     },
     "metadata": {
      "needs_background": "light"
     },
     "output_type": "display_data"
    }
   ],
   "source": [
    "sns.histplot(x=np.log10(salaries))"
   ]
  },
  {
   "cell_type": "code",
   "execution_count": 28,
   "metadata": {},
   "outputs": [
    {
     "data": {
      "text/plain": [
       "array([2.07, 4.11, 3.18, 2.41, 4.51, 2.34, 4.36, 2.28, 4.94, 2.51])"
      ]
     },
     "execution_count": 28,
     "metadata": {},
     "output_type": "execute_result"
    }
   ],
   "source": [
    "np.log10(salaries).round(2)[:10]"
   ]
  }
 ],
 "metadata": {
  "kernelspec": {
   "display_name": "Python 3",
   "language": "python",
   "name": "python3"
  },
  "language_info": {
   "codemirror_mode": {
    "name": "ipython",
    "version": 3
   },
   "file_extension": ".py",
   "mimetype": "text/x-python",
   "name": "python",
   "nbconvert_exporter": "python",
   "pygments_lexer": "ipython3",
   "version": "3.8.10"
  },
  "toc": {
   "base_numbering": 1,
   "nav_menu": {},
   "number_sections": true,
   "sideBar": true,
   "skip_h1_title": true,
   "title_cell": "Table of Contents",
   "title_sidebar": "Contents",
   "toc_cell": true,
   "toc_position": {
    "height": "calc(100% - 180px)",
    "left": "10px",
    "top": "150px",
    "width": "341.333px"
   },
   "toc_section_display": true,
   "toc_window_display": true
  }
 },
 "nbformat": 4,
 "nbformat_minor": 4
}
